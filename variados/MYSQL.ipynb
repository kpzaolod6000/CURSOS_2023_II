{
  "nbformat": 4,
  "nbformat_minor": 0,
  "metadata": {
    "colab": {
      "provenance": []
    },
    "kernelspec": {
      "name": "python3",
      "display_name": "Python 3"
    },
    "language_info": {
      "name": "python"
    }
  },
  "cells": [
    {
      "cell_type": "code",
      "execution_count": 27,
      "metadata": {
        "id": "PmSicF_kLqIr"
      },
      "outputs": [],
      "source": [
        "import sqlite3\n",
        "from google.colab import files\n",
        "\n",
        "# Conecta a una base de datos SQLite (o crea una nueva si no existe)\n",
        "conexion = sqlite3.connect('tu_base_de_datos.db')\n",
        "\n",
        "# Borra la tabla si ya existe\n",
        "cursor = conexion.cursor()\n",
        "cursor.execute('DROP TABLE IF EXISTS tu_tabla')\n",
        "conexion.commit()\n",
        "\n",
        "# Crea una nueva tabla\n",
        "cursor.execute('''\n",
        "    CREATE TABLE tu_tabla (\n",
        "        word TEXT,\n",
        "        url_id INTEGER\n",
        "    )\n",
        "''')\n",
        "conexion.commit()\n",
        "\n",
        "# Sube tu archivo .txt a Colab (asegúrate de haberlo cargado previamente)\n",
        "# Selecciona el archivo desde tu sistema local\n",
        "#uploaded = files.upload()\n",
        "\n",
        "with open('ejemplo1.txt', 'r') as f:\n",
        "    lines = f.readlines()\n",
        "\n",
        "# Itera a través de las líneas del archivo y procesa los datos\n",
        "for line in lines:\n",
        "\n",
        "    partes = line.strip().split('\\t')\n",
        "    word = partes[0]\n",
        "    content = partes[1]\n",
        "\n",
        "    links = content.split()\n",
        "\n",
        "    # Inserta los datos en la tabla SQLite\n",
        "    cursor = conexion.cursor()\n",
        "    for link in links:\n",
        "        url_id, value = link.split(':')\n",
        "        sql = \"INSERT INTO tu_tabla (word, url_id) VALUES (?, ?)\"\n",
        "        val = (word, url_id)\n",
        "        cursor.execute(sql, val)\n",
        "\n",
        "    # Guarda los cambios en la base de datos\n",
        "    conexion.commit()\n",
        "\n",
        "# Cierra la conexión a la base de datos SQLite\n",
        "conexion.close()\n"
      ]
    },
    {
      "cell_type": "code",
      "source": [
        "import sqlite3\n",
        "import pandas as pd\n",
        "\n",
        "# Conecta a la base de datos SQLite\n",
        "conexion = sqlite3.connect('tu_base_de_datos.db')\n",
        "\n",
        "# Ejecuta una consulta SQL para seleccionar los datos de la tabla\n",
        "consulta = \"SELECT * FROM tu_tabla\"\n",
        "\n",
        "# Utiliza pandas para cargar los datos en un DataFrame\n",
        "df = pd.read_sql_query(consulta, conexion)\n",
        "\n",
        "# Cierra la conexión a la base de datos SQLite\n",
        "conexion.close()\n",
        "\n",
        "# Ahora, df contiene los datos en un DataFrame de Pandas\n",
        "# Puedes trabajar con los datos de la tabla utilizando pandas\n",
        "print(df)\n"
      ],
      "metadata": {
        "colab": {
          "base_uri": "https://localhost:8080/"
        },
        "id": "OgqhXlz8OUz7",
        "outputId": "167066e1-66e1-4f97-87ef-b7b482ab049d"
      },
      "execution_count": 28,
      "outputs": [
        {
          "output_type": "stream",
          "name": "stdout",
          "text": [
            "    word  url_id\n",
            "0  mundo    2019\n",
            "1  mundo    2020\n",
            "2    gol    2017\n",
            "3    gol    2018\n"
          ]
        }
      ]
    },
    {
      "cell_type": "markdown",
      "source": [
        "# MYSQL"
      ],
      "metadata": {
        "id": "ZmbDmLITRuG3"
      }
    },
    {
      "cell_type": "code",
      "source": [
        "import mysql.connector\n",
        "\n",
        "# Conecta a la base de datos MySQL local\n",
        "conexion = mysql.connector.connect(\n",
        "    host='localhost',\n",
        "    user='tu_usuario',\n",
        "    password='tu_contraseña',\n",
        "    database='tu_base_de_datos'\n",
        ")\n",
        "\n",
        "# Borra la tabla si ya existe\n",
        "cursor = conexion.cursor()\n",
        "cursor.execute('DROP TABLE IF EXISTS tu_tabla')\n",
        "\n",
        "# Crea una nueva tabla\n",
        "cursor.execute('''\n",
        "    CREATE TABLE IF NOT EXISTS tu_tabla (\n",
        "        word TEXT,\n",
        "        url_id INTEGER\n",
        "    )\n",
        "''')\n",
        "\n",
        "# Sube tu archivo .txt (asegúrate de que el archivo \"ejemplo1.txt\" esté en el mismo directorio)\n",
        "with open('ejemplo1.txt', 'r') as f:\n",
        "    lines = f.readlines()\n",
        "\n",
        "# Itera a través de las líneas del archivo y procesa los datos\n",
        "for line in lines:\n",
        "    partes = line.strip().split('\\t')\n",
        "    word = partes[0]\n",
        "    content = partes[1]\n",
        "    links = content.split()\n",
        "\n",
        "    # Inserta los datos en la tabla MySQL local\n",
        "    cursor = conexion.cursor()\n",
        "    for link in links:\n",
        "        url_id, value = link.split(':')\n",
        "        sql = \"INSERT INTO tu_tabla (word, url_id) VALUES (%s, %s)\"\n",
        "        val = (word, int(url_id))\n",
        "        cursor.execute(sql, val)\n",
        "\n",
        "# Guarda los cambios en la base de datos\n",
        "conexion.commit()\n",
        "\n",
        "# Cierra la conexión a la base de datos MySQL\n",
        "conexion.close()\n"
      ],
      "metadata": {
        "id": "NQvOGsuBQxRA"
      },
      "execution_count": null,
      "outputs": []
    },
    {
      "cell_type": "code",
      "source": [
        "import mysql.connector\n",
        "import pandas as pd\n",
        "\n",
        "# Conecta a la base de datos MySQL\n",
        "conexion = mysql.connector.connect(\n",
        "    host='tu_host',\n",
        "    user='tu_usuario',\n",
        "    password='tu_contraseña',\n",
        "    database='tu_base_de_datos'\n",
        ")\n",
        "\n",
        "# Ejecuta una consulta SQL para seleccionar los datos de la tabla\n",
        "consulta = \"SELECT * FROM tu_tabla\"\n",
        "\n",
        "# Utiliza pandas para cargar los datos en un DataFrame\n",
        "df = pd.read_sql_query(consulta, conexion)\n",
        "\n",
        "# Cierra la conexión a la base de datos MySQL\n",
        "conexion.close()\n",
        "\n",
        "# Ahora, df contiene los datos en un DataFrame de Pandas\n",
        "# Puedes trabajar con los datos de la tabla utilizando pandas\n",
        "print(df)\n"
      ],
      "metadata": {
        "id": "0da-dGDvSMBC"
      },
      "execution_count": null,
      "outputs": []
    }
  ]
}